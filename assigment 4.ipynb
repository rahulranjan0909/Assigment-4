{
 "cells": [
  {
   "cell_type": "code",
   "execution_count": 17,
   "metadata": {},
   "outputs": [],
   "source": [
    "import numpy as np\n",
    "class length:\n",
    "    def __init__(self,a,b,c):\n",
    "        self.a=a\n",
    "        self.b=b\n",
    "        self.c=c\n",
    "        print(a,b,c)\n",
    "class Area(length):\n",
    "     def areacal(self):\n",
    "        s=(self.a+self.b+self.c)/2\n",
    "        cal=s*(s-self.a)*(s-self.b)*(s-self.c)\n",
    "        area=np.sqrt(cal)\n",
    "        print(\"Area=\",area)   \n",
    "a1=Area(3,4,5)\n",
    "a1.areacal()\n",
    "\n"
   ]
  },
  {
   "cell_type": "code",
   "execution_count": null,
   "metadata": {},
   "outputs": [],
   "source": [
    "def Filter_long_words(list1,n):\n",
    "    list2=[]\n",
    "    for i in range(0,len(list1));\n",
    "        if(len(list1[i]>n)):\n",
    "           list2=list2.append(list1[i])\n",
    "   print(list2) \n",
    "a=[afs,dsfd,sfsf,ssf]\n",
    "filter_long_words(a,5)\n",
    "  "
   ]
  },
  {
   "cell_type": "code",
   "execution_count": null,
   "metadata": {},
   "outputs": [],
   "source": [
    "def lengthcalculator(list1):\n",
    "    list3=[]\n",
    "    list2=list1.split()\n",
    "    n=len(list2)\n",
    "    for i in range(0,n):\n",
    "        list3.append(len(list2[i]))\n",
    "        \n",
    "    print(list3)    \n",
    "\n",
    "\n",
    "a=\"DSAD ADAS dasad asdsada\"\n",
    "lengthcalculator(a) \n",
    "\n",
    "    \n",
    "\n"
   ]
  },
  {
   "cell_type": "code",
   "execution_count": null,
   "metadata": {},
   "outputs": [],
   "source": [
    "def vowel(a):\n",
    "    if(a==\"a\" or a==\"A\"):\n",
    "        print(\"TRUE\")\n",
    "    elif(a==\"e\" or a==\"E\"):\n",
    "        print(\"TRUE\")\n",
    "    elif(a==\"i\" or a==\"I\"):\n",
    "        print(\"TRUE\")\n",
    "    elif(a==\"o\" or a==\"O\"):\n",
    "        print(\"TRUE\")\n",
    "    elif(a==\"u\" or a==\"U\"):\n",
    "        print(\"TRUE\")\n",
    "    else:\n",
    "        print(\"FALSE\")\n",
    "a=\"p\"\n",
    "vowel(a)        "
   ]
  },
  {
   "cell_type": "code",
   "execution_count": null,
   "metadata": {},
   "outputs": [],
   "source": []
  },
  {
   "cell_type": "code",
   "execution_count": null,
   "metadata": {},
   "outputs": [],
   "source": []
  }
 ],
 "metadata": {
  "kernelspec": {
   "display_name": "Python 3",
   "language": "python",
   "name": "python3"
  },
  "language_info": {
   "codemirror_mode": {
    "name": "ipython",
    "version": 3
   },
   "file_extension": ".py",
   "mimetype": "text/x-python",
   "name": "python",
   "nbconvert_exporter": "python",
   "pygments_lexer": "ipython3",
   "version": "3.8.5"
  }
 },
 "nbformat": 4,
 "nbformat_minor": 4
}
